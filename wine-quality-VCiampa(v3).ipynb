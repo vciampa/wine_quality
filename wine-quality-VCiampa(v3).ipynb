{
 "cells": [
  {
   "cell_type": "markdown",
   "id": "03e74d50",
   "metadata": {},
   "source": [
    "# Predicción de la calidad y el tipo del vino mediante el análisis de ingredientes:\n",
    "\n",
    "1) Dataset: WineQuality.csv\n",
    "2) Importar bibliotecas y cargar datos\n",
    "3) Exploración del conjunto de datos (EDA)\n",
    "4) Aplicar Machine Learning\n",
    "5) Predicciones\n",
    "6) Modelos finales\n",
    "\n",
    "Para calcular la predicción de la calidad del vino, así como el tipo de vinos a partir del análisis de ingredientes, debemos seguir los pasos dados:\n",
    "\n",
    "1. Recopilación de datos\n",
    "Vamos a utilizar el archivo de conjunto de datos WineQuality.csv para esta tarea. Este conjunto de datos contiene 12 columnas relacionadas con las propiedades fisicoquímicas de los vinos y su calificación de calidad. Las columnas son:\n",
    "\n",
    "-acidez fija\n",
    "-acidez volátil\n",
    "-ácido cítrico\n",
    "-azúcar residual\n",
    "-cloruros\n",
    "-dióxido de azufre libre\n",
    "-dióxido de azufre total\n",
    "-densidad\n",
    "-pH\n",
    "-sulfatos\n",
    "-alcohólico\n",
    "-calidad (puntuación entre 0 y 10)\n",
    "-Tipo (tipo de vinos)\n",
    "\n",
    "2. Importar bibliotecas y cargar datos\n",
    "Necesitamos importar las bibliotecas necesarias y cargar el conjunto de datos en un dataframe pandas.\n",
    "3. Explorando Dataset\n",
    "4. Aplicación Machine Learning\n",
    "5. Predicciones\n",
    "6. Modelos finales.\n"
   ]
  },
  {
   "cell_type": "code",
   "execution_count": 5,
   "id": "ab6facc0",
   "metadata": {},
   "outputs": [],
   "source": [
    "# import libraries\n",
    "import pandas as pd\n",
    "import numpy as np\n",
    "from sklearn.model_selection import train_test_split\n",
    "from sklearn.preprocessing import StandardScaler\n",
    "from sklearn.ensemble import RandomForestClassifier\n",
    "from sklearn.metrics import accuracy_score, confusion_matrix\n",
    "import matplotlib.pyplot as plt\n",
    "from sklearn.metrics import mean_squared_error\n",
    "from sklearn.feature_extraction.text import CountVectorizer\n",
    "import ast\n",
    "import statsmodels.api as sm\n",
    "\n",
    "# load dataset\n",
    "wine_df = pd.read_csv('WineQuality.csv')\n",
    "\n",
    "pd.set_option('display.max_rows', 1000) # truncate view.\n",
    "\n",
    "\n",
    "####\n",
    "# import warnings \n",
    "# warnings.filterwarnings(\"ignore\")\n",
    "# import shap\n",
    "\n",
    "# from catboost import Pool, CatBoostRegressor # CatBoost is a fast, scalable, high performance gradient boosting on decision trees library. Used for ranking, classification, regression and other ML tasks.\n",
    "\n",
    "\n"
   ]
  },
  {
   "cell_type": "code",
   "execution_count": 6,
   "id": "bb25a11c",
   "metadata": {},
   "outputs": [
    {
     "name": "stdout",
     "output_type": "stream",
     "text": [
      "(5288, 13)\n"
     ]
    },
    {
     "data": {
      "text/html": [
       "<div>\n",
       "<style scoped>\n",
       "    .dataframe tbody tr th:only-of-type {\n",
       "        vertical-align: middle;\n",
       "    }\n",
       "\n",
       "    .dataframe tbody tr th {\n",
       "        vertical-align: top;\n",
       "    }\n",
       "\n",
       "    .dataframe thead th {\n",
       "        text-align: right;\n",
       "    }\n",
       "</style>\n",
       "<table border=\"1\" class=\"dataframe\">\n",
       "  <thead>\n",
       "    <tr style=\"text-align: right;\">\n",
       "      <th></th>\n",
       "      <th>16229</th>\n",
       "      <th>7144</th>\n",
       "      <th>936</th>\n",
       "      <th>468</th>\n",
       "      <th>6491</th>\n",
       "    </tr>\n",
       "  </thead>\n",
       "  <tbody>\n",
       "    <tr>\n",
       "      <th>fixed acidity</th>\n",
       "      <td>8.0</td>\n",
       "      <td>6.0</td>\n",
       "      <td>5.5</td>\n",
       "      <td>6.4</td>\n",
       "      <td>6.9</td>\n",
       "    </tr>\n",
       "    <tr>\n",
       "      <th>volatile acidity</th>\n",
       "      <td>0.13</td>\n",
       "      <td>0.31</td>\n",
       "      <td>0.23</td>\n",
       "      <td>0.18</td>\n",
       "      <td>0.2</td>\n",
       "    </tr>\n",
       "    <tr>\n",
       "      <th>citric acid</th>\n",
       "      <td>0.25</td>\n",
       "      <td>0.47</td>\n",
       "      <td>0.19</td>\n",
       "      <td>0.74</td>\n",
       "      <td>0.28</td>\n",
       "    </tr>\n",
       "    <tr>\n",
       "      <th>residual sugar</th>\n",
       "      <td>1.1</td>\n",
       "      <td>3.6</td>\n",
       "      <td>2.2</td>\n",
       "      <td>11.9</td>\n",
       "      <td>1.2</td>\n",
       "    </tr>\n",
       "    <tr>\n",
       "      <th>chlorides</th>\n",
       "      <td>0.033</td>\n",
       "      <td>0.067</td>\n",
       "      <td>0.044</td>\n",
       "      <td>0.046</td>\n",
       "      <td>0.048</td>\n",
       "    </tr>\n",
       "    <tr>\n",
       "      <th>free sulfur dioxide</th>\n",
       "      <td>15.0</td>\n",
       "      <td>18.0</td>\n",
       "      <td>39.0</td>\n",
       "      <td>54.0</td>\n",
       "      <td>36.0</td>\n",
       "    </tr>\n",
       "    <tr>\n",
       "      <th>total sulfur dioxide</th>\n",
       "      <td>86.0</td>\n",
       "      <td>42.0</td>\n",
       "      <td>161.0</td>\n",
       "      <td>168.0</td>\n",
       "      <td>159.0</td>\n",
       "    </tr>\n",
       "    <tr>\n",
       "      <th>density</th>\n",
       "      <td>0.99044</td>\n",
       "      <td>0.99549</td>\n",
       "      <td>0.99209</td>\n",
       "      <td>0.9978</td>\n",
       "      <td>0.9936</td>\n",
       "    </tr>\n",
       "    <tr>\n",
       "      <th>pH</th>\n",
       "      <td>2.98</td>\n",
       "      <td>3.39</td>\n",
       "      <td>3.19</td>\n",
       "      <td>3.58</td>\n",
       "      <td>3.19</td>\n",
       "    </tr>\n",
       "    <tr>\n",
       "      <th>sulphates</th>\n",
       "      <td>0.39</td>\n",
       "      <td>0.66</td>\n",
       "      <td>0.43</td>\n",
       "      <td>0.68</td>\n",
       "      <td>0.43</td>\n",
       "    </tr>\n",
       "    <tr>\n",
       "      <th>alcohol</th>\n",
       "      <td>11.2</td>\n",
       "      <td>11.0</td>\n",
       "      <td>10.4</td>\n",
       "      <td>10.1</td>\n",
       "      <td>9.1</td>\n",
       "    </tr>\n",
       "    <tr>\n",
       "      <th>quality</th>\n",
       "      <td>8</td>\n",
       "      <td>6</td>\n",
       "      <td>6</td>\n",
       "      <td>5</td>\n",
       "      <td>6</td>\n",
       "    </tr>\n",
       "    <tr>\n",
       "      <th>Type</th>\n",
       "      <td>White Wine</td>\n",
       "      <td>Red Wine</td>\n",
       "      <td>White Wine</td>\n",
       "      <td>White Wine</td>\n",
       "      <td>White Wine</td>\n",
       "    </tr>\n",
       "  </tbody>\n",
       "</table>\n",
       "</div>"
      ],
      "text/plain": [
       "                           16229     7144        936         468         6491 \n",
       "fixed acidity                8.0       6.0         5.5         6.4         6.9\n",
       "volatile acidity            0.13      0.31        0.23        0.18         0.2\n",
       "citric acid                 0.25      0.47        0.19        0.74        0.28\n",
       "residual sugar               1.1       3.6         2.2        11.9         1.2\n",
       "chlorides                  0.033     0.067       0.044       0.046       0.048\n",
       "free sulfur dioxide         15.0      18.0        39.0        54.0        36.0\n",
       "total sulfur dioxide        86.0      42.0       161.0       168.0       159.0\n",
       "density                  0.99044   0.99549     0.99209      0.9978      0.9936\n",
       "pH                          2.98      3.39        3.19        3.58        3.19\n",
       "sulphates                   0.39      0.66        0.43        0.68        0.43\n",
       "alcohol                     11.2      11.0        10.4        10.1         9.1\n",
       "quality                        8         6           6           5           6\n",
       "Type                  White Wine  Red Wine  White Wine  White Wine  White Wine"
      ]
     },
     "execution_count": 6,
     "metadata": {},
     "output_type": "execute_result"
    }
   ],
   "source": [
    "df = pd.read_csv(\"/Users/vicenteciampa/My Drive/Personal/Formacion/CodFacilito/CF-DataScience_Avanzado/Wine_Quality_Data/Fuentes/WineQuality.csv\").drop(['Unnamed: 0'], axis=1).drop_duplicates()\n",
    "print(df.shape)\n",
    "df.sample(5).T"
   ]
  },
  {
   "cell_type": "code",
   "execution_count": 7,
   "id": "9a011a0f",
   "metadata": {},
   "outputs": [
    {
     "data": {
      "text/html": [
       "<div>\n",
       "<style scoped>\n",
       "    .dataframe tbody tr th:only-of-type {\n",
       "        vertical-align: middle;\n",
       "    }\n",
       "\n",
       "    .dataframe tbody tr th {\n",
       "        vertical-align: top;\n",
       "    }\n",
       "\n",
       "    .dataframe thead th {\n",
       "        text-align: right;\n",
       "    }\n",
       "</style>\n",
       "<table border=\"1\" class=\"dataframe\">\n",
       "  <thead>\n",
       "    <tr style=\"text-align: right;\">\n",
       "      <th></th>\n",
       "      <th>count</th>\n",
       "      <th>mean</th>\n",
       "      <th>std</th>\n",
       "      <th>min</th>\n",
       "      <th>25%</th>\n",
       "      <th>50%</th>\n",
       "      <th>75%</th>\n",
       "      <th>max</th>\n",
       "    </tr>\n",
       "  </thead>\n",
       "  <tbody>\n",
       "    <tr>\n",
       "      <th>fixed acidity</th>\n",
       "      <td>5288.0</td>\n",
       "      <td>7.213814</td>\n",
       "      <td>1.320010</td>\n",
       "      <td>3.80000</td>\n",
       "      <td>6.4000</td>\n",
       "      <td>7.000000</td>\n",
       "      <td>7.70000</td>\n",
       "      <td>15.90000</td>\n",
       "    </tr>\n",
       "    <tr>\n",
       "      <th>volatile acidity</th>\n",
       "      <td>5288.0</td>\n",
       "      <td>0.344070</td>\n",
       "      <td>0.168322</td>\n",
       "      <td>0.08000</td>\n",
       "      <td>0.2300</td>\n",
       "      <td>0.300000</td>\n",
       "      <td>0.41000</td>\n",
       "      <td>1.58000</td>\n",
       "    </tr>\n",
       "    <tr>\n",
       "      <th>citric acid</th>\n",
       "      <td>5288.0</td>\n",
       "      <td>0.318425</td>\n",
       "      <td>0.147248</td>\n",
       "      <td>0.00000</td>\n",
       "      <td>0.2400</td>\n",
       "      <td>0.310000</td>\n",
       "      <td>0.40000</td>\n",
       "      <td>1.66000</td>\n",
       "    </tr>\n",
       "    <tr>\n",
       "      <th>residual sugar</th>\n",
       "      <td>5288.0</td>\n",
       "      <td>5.054160</td>\n",
       "      <td>4.504088</td>\n",
       "      <td>0.60000</td>\n",
       "      <td>1.8000</td>\n",
       "      <td>2.700000</td>\n",
       "      <td>7.50000</td>\n",
       "      <td>65.80000</td>\n",
       "    </tr>\n",
       "    <tr>\n",
       "      <th>chlorides</th>\n",
       "      <td>5288.0</td>\n",
       "      <td>0.056693</td>\n",
       "      <td>0.036919</td>\n",
       "      <td>0.00900</td>\n",
       "      <td>0.0380</td>\n",
       "      <td>0.047000</td>\n",
       "      <td>0.06600</td>\n",
       "      <td>0.61100</td>\n",
       "    </tr>\n",
       "    <tr>\n",
       "      <th>free sulfur dioxide</th>\n",
       "      <td>5288.0</td>\n",
       "      <td>30.024395</td>\n",
       "      <td>17.812037</td>\n",
       "      <td>1.00000</td>\n",
       "      <td>16.0000</td>\n",
       "      <td>28.000000</td>\n",
       "      <td>41.00000</td>\n",
       "      <td>289.00000</td>\n",
       "    </tr>\n",
       "    <tr>\n",
       "      <th>total sulfur dioxide</th>\n",
       "      <td>5288.0</td>\n",
       "      <td>114.171710</td>\n",
       "      <td>56.825830</td>\n",
       "      <td>6.00000</td>\n",
       "      <td>74.0000</td>\n",
       "      <td>116.000000</td>\n",
       "      <td>154.00000</td>\n",
       "      <td>440.00000</td>\n",
       "    </tr>\n",
       "    <tr>\n",
       "      <th>density</th>\n",
       "      <td>5288.0</td>\n",
       "      <td>0.994537</td>\n",
       "      <td>0.002965</td>\n",
       "      <td>0.98711</td>\n",
       "      <td>0.9922</td>\n",
       "      <td>0.994665</td>\n",
       "      <td>0.99677</td>\n",
       "      <td>1.03898</td>\n",
       "    </tr>\n",
       "    <tr>\n",
       "      <th>pH</th>\n",
       "      <td>5288.0</td>\n",
       "      <td>3.224459</td>\n",
       "      <td>0.160400</td>\n",
       "      <td>2.72000</td>\n",
       "      <td>3.1100</td>\n",
       "      <td>3.210000</td>\n",
       "      <td>3.33000</td>\n",
       "      <td>4.01000</td>\n",
       "    </tr>\n",
       "    <tr>\n",
       "      <th>sulphates</th>\n",
       "      <td>5288.0</td>\n",
       "      <td>0.533336</td>\n",
       "      <td>0.149723</td>\n",
       "      <td>0.22000</td>\n",
       "      <td>0.4300</td>\n",
       "      <td>0.510000</td>\n",
       "      <td>0.60000</td>\n",
       "      <td>2.00000</td>\n",
       "    </tr>\n",
       "    <tr>\n",
       "      <th>alcohol</th>\n",
       "      <td>5288.0</td>\n",
       "      <td>10.547478</td>\n",
       "      <td>1.186173</td>\n",
       "      <td>8.00000</td>\n",
       "      <td>9.5000</td>\n",
       "      <td>10.400000</td>\n",
       "      <td>11.40000</td>\n",
       "      <td>14.90000</td>\n",
       "    </tr>\n",
       "    <tr>\n",
       "      <th>quality</th>\n",
       "      <td>5288.0</td>\n",
       "      <td>5.794251</td>\n",
       "      <td>0.879343</td>\n",
       "      <td>3.00000</td>\n",
       "      <td>5.0000</td>\n",
       "      <td>6.000000</td>\n",
       "      <td>6.00000</td>\n",
       "      <td>9.00000</td>\n",
       "    </tr>\n",
       "  </tbody>\n",
       "</table>\n",
       "</div>"
      ],
      "text/plain": [
       "                       count        mean        std      min      25%  \\\n",
       "fixed acidity         5288.0    7.213814   1.320010  3.80000   6.4000   \n",
       "volatile acidity      5288.0    0.344070   0.168322  0.08000   0.2300   \n",
       "citric acid           5288.0    0.318425   0.147248  0.00000   0.2400   \n",
       "residual sugar        5288.0    5.054160   4.504088  0.60000   1.8000   \n",
       "chlorides             5288.0    0.056693   0.036919  0.00900   0.0380   \n",
       "free sulfur dioxide   5288.0   30.024395  17.812037  1.00000  16.0000   \n",
       "total sulfur dioxide  5288.0  114.171710  56.825830  6.00000  74.0000   \n",
       "density               5288.0    0.994537   0.002965  0.98711   0.9922   \n",
       "pH                    5288.0    3.224459   0.160400  2.72000   3.1100   \n",
       "sulphates             5288.0    0.533336   0.149723  0.22000   0.4300   \n",
       "alcohol               5288.0   10.547478   1.186173  8.00000   9.5000   \n",
       "quality               5288.0    5.794251   0.879343  3.00000   5.0000   \n",
       "\n",
       "                             50%        75%        max  \n",
       "fixed acidity           7.000000    7.70000   15.90000  \n",
       "volatile acidity        0.300000    0.41000    1.58000  \n",
       "citric acid             0.310000    0.40000    1.66000  \n",
       "residual sugar          2.700000    7.50000   65.80000  \n",
       "chlorides               0.047000    0.06600    0.61100  \n",
       "free sulfur dioxide    28.000000   41.00000  289.00000  \n",
       "total sulfur dioxide  116.000000  154.00000  440.00000  \n",
       "density                 0.994665    0.99677    1.03898  \n",
       "pH                      3.210000    3.33000    4.01000  \n",
       "sulphates               0.510000    0.60000    2.00000  \n",
       "alcohol                10.400000   11.40000   14.90000  \n",
       "quality                 6.000000    6.00000    9.00000  "
      ]
     },
     "execution_count": 7,
     "metadata": {},
     "output_type": "execute_result"
    }
   ],
   "source": [
    "df.describe().T"
   ]
  },
  {
   "cell_type": "code",
   "execution_count": 8,
   "id": "6c9ca922",
   "metadata": {},
   "outputs": [
    {
     "data": {
      "text/html": [
       "<div>\n",
       "<style scoped>\n",
       "    .dataframe tbody tr th:only-of-type {\n",
       "        vertical-align: middle;\n",
       "    }\n",
       "\n",
       "    .dataframe tbody tr th {\n",
       "        vertical-align: top;\n",
       "    }\n",
       "\n",
       "    .dataframe thead th {\n",
       "        text-align: right;\n",
       "    }\n",
       "</style>\n",
       "<table border=\"1\" class=\"dataframe\">\n",
       "  <thead>\n",
       "    <tr style=\"text-align: right;\">\n",
       "      <th></th>\n",
       "      <th>fixed acidity</th>\n",
       "      <th>volatile acidity</th>\n",
       "      <th>citric acid</th>\n",
       "      <th>residual sugar</th>\n",
       "      <th>chlorides</th>\n",
       "      <th>free sulfur dioxide</th>\n",
       "      <th>total sulfur dioxide</th>\n",
       "      <th>density</th>\n",
       "      <th>pH</th>\n",
       "      <th>sulphates</th>\n",
       "      <th>alcohol</th>\n",
       "      <th>quality</th>\n",
       "    </tr>\n",
       "  </thead>\n",
       "  <tbody>\n",
       "    <tr>\n",
       "      <th>count</th>\n",
       "      <td>5288.000000</td>\n",
       "      <td>5288.000000</td>\n",
       "      <td>5288.000000</td>\n",
       "      <td>5288.000000</td>\n",
       "      <td>5288.000000</td>\n",
       "      <td>5288.000000</td>\n",
       "      <td>5288.00000</td>\n",
       "      <td>5288.000000</td>\n",
       "      <td>5288.000000</td>\n",
       "      <td>5288.000000</td>\n",
       "      <td>5288.000000</td>\n",
       "      <td>5288.000000</td>\n",
       "    </tr>\n",
       "    <tr>\n",
       "      <th>mean</th>\n",
       "      <td>7.213814</td>\n",
       "      <td>0.344070</td>\n",
       "      <td>0.318425</td>\n",
       "      <td>5.054160</td>\n",
       "      <td>0.056693</td>\n",
       "      <td>30.024395</td>\n",
       "      <td>114.17171</td>\n",
       "      <td>0.994537</td>\n",
       "      <td>3.224459</td>\n",
       "      <td>0.533336</td>\n",
       "      <td>10.547478</td>\n",
       "      <td>5.794251</td>\n",
       "    </tr>\n",
       "    <tr>\n",
       "      <th>std</th>\n",
       "      <td>1.320010</td>\n",
       "      <td>0.168322</td>\n",
       "      <td>0.147248</td>\n",
       "      <td>4.504088</td>\n",
       "      <td>0.036919</td>\n",
       "      <td>17.812037</td>\n",
       "      <td>56.82583</td>\n",
       "      <td>0.002965</td>\n",
       "      <td>0.160400</td>\n",
       "      <td>0.149723</td>\n",
       "      <td>1.186173</td>\n",
       "      <td>0.879343</td>\n",
       "    </tr>\n",
       "    <tr>\n",
       "      <th>min</th>\n",
       "      <td>3.800000</td>\n",
       "      <td>0.080000</td>\n",
       "      <td>0.000000</td>\n",
       "      <td>0.600000</td>\n",
       "      <td>0.009000</td>\n",
       "      <td>1.000000</td>\n",
       "      <td>6.00000</td>\n",
       "      <td>0.987110</td>\n",
       "      <td>2.720000</td>\n",
       "      <td>0.220000</td>\n",
       "      <td>8.000000</td>\n",
       "      <td>3.000000</td>\n",
       "    </tr>\n",
       "    <tr>\n",
       "      <th>25%</th>\n",
       "      <td>6.400000</td>\n",
       "      <td>0.230000</td>\n",
       "      <td>0.240000</td>\n",
       "      <td>1.800000</td>\n",
       "      <td>0.038000</td>\n",
       "      <td>16.000000</td>\n",
       "      <td>74.00000</td>\n",
       "      <td>0.992200</td>\n",
       "      <td>3.110000</td>\n",
       "      <td>0.430000</td>\n",
       "      <td>9.500000</td>\n",
       "      <td>5.000000</td>\n",
       "    </tr>\n",
       "    <tr>\n",
       "      <th>50%</th>\n",
       "      <td>7.000000</td>\n",
       "      <td>0.300000</td>\n",
       "      <td>0.310000</td>\n",
       "      <td>2.700000</td>\n",
       "      <td>0.047000</td>\n",
       "      <td>28.000000</td>\n",
       "      <td>116.00000</td>\n",
       "      <td>0.994665</td>\n",
       "      <td>3.210000</td>\n",
       "      <td>0.510000</td>\n",
       "      <td>10.400000</td>\n",
       "      <td>6.000000</td>\n",
       "    </tr>\n",
       "    <tr>\n",
       "      <th>75%</th>\n",
       "      <td>7.700000</td>\n",
       "      <td>0.410000</td>\n",
       "      <td>0.400000</td>\n",
       "      <td>7.500000</td>\n",
       "      <td>0.066000</td>\n",
       "      <td>41.000000</td>\n",
       "      <td>154.00000</td>\n",
       "      <td>0.996770</td>\n",
       "      <td>3.330000</td>\n",
       "      <td>0.600000</td>\n",
       "      <td>11.400000</td>\n",
       "      <td>6.000000</td>\n",
       "    </tr>\n",
       "    <tr>\n",
       "      <th>max</th>\n",
       "      <td>15.900000</td>\n",
       "      <td>1.580000</td>\n",
       "      <td>1.660000</td>\n",
       "      <td>65.800000</td>\n",
       "      <td>0.611000</td>\n",
       "      <td>289.000000</td>\n",
       "      <td>440.00000</td>\n",
       "      <td>1.038980</td>\n",
       "      <td>4.010000</td>\n",
       "      <td>2.000000</td>\n",
       "      <td>14.900000</td>\n",
       "      <td>9.000000</td>\n",
       "    </tr>\n",
       "  </tbody>\n",
       "</table>\n",
       "</div>"
      ],
      "text/plain": [
       "       fixed acidity  volatile acidity  citric acid  residual sugar  \\\n",
       "count    5288.000000       5288.000000  5288.000000     5288.000000   \n",
       "mean        7.213814          0.344070     0.318425        5.054160   \n",
       "std         1.320010          0.168322     0.147248        4.504088   \n",
       "min         3.800000          0.080000     0.000000        0.600000   \n",
       "25%         6.400000          0.230000     0.240000        1.800000   \n",
       "50%         7.000000          0.300000     0.310000        2.700000   \n",
       "75%         7.700000          0.410000     0.400000        7.500000   \n",
       "max        15.900000          1.580000     1.660000       65.800000   \n",
       "\n",
       "         chlorides  free sulfur dioxide  total sulfur dioxide      density  \\\n",
       "count  5288.000000          5288.000000            5288.00000  5288.000000   \n",
       "mean      0.056693            30.024395             114.17171     0.994537   \n",
       "std       0.036919            17.812037              56.82583     0.002965   \n",
       "min       0.009000             1.000000               6.00000     0.987110   \n",
       "25%       0.038000            16.000000              74.00000     0.992200   \n",
       "50%       0.047000            28.000000             116.00000     0.994665   \n",
       "75%       0.066000            41.000000             154.00000     0.996770   \n",
       "max       0.611000           289.000000             440.00000     1.038980   \n",
       "\n",
       "                pH    sulphates      alcohol      quality  \n",
       "count  5288.000000  5288.000000  5288.000000  5288.000000  \n",
       "mean      3.224459     0.533336    10.547478     5.794251  \n",
       "std       0.160400     0.149723     1.186173     0.879343  \n",
       "min       2.720000     0.220000     8.000000     3.000000  \n",
       "25%       3.110000     0.430000     9.500000     5.000000  \n",
       "50%       3.210000     0.510000    10.400000     6.000000  \n",
       "75%       3.330000     0.600000    11.400000     6.000000  \n",
       "max       4.010000     2.000000    14.900000     9.000000  "
      ]
     },
     "execution_count": 8,
     "metadata": {},
     "output_type": "execute_result"
    }
   ],
   "source": [
    "df.describe()"
   ]
  },
  {
   "cell_type": "code",
   "execution_count": 9,
   "id": "4960c3a3",
   "metadata": {},
   "outputs": [
    {
     "data": {
      "text/plain": [
       "(5288, 13)"
      ]
     },
     "execution_count": 9,
     "metadata": {},
     "output_type": "execute_result"
    }
   ],
   "source": [
    "df.shape"
   ]
  },
  {
   "cell_type": "code",
   "execution_count": 10,
   "id": "fa848ada",
   "metadata": {},
   "outputs": [
    {
     "name": "stdout",
     "output_type": "stream",
     "text": [
      "<class 'pandas.core.frame.DataFrame'>\n",
      "Int64Index: 5288 entries, 0 to 32056\n",
      "Data columns (total 13 columns):\n",
      " #   Column                Non-Null Count  Dtype  \n",
      "---  ------                --------------  -----  \n",
      " 0   fixed acidity         5288 non-null   float64\n",
      " 1   volatile acidity      5288 non-null   float64\n",
      " 2   citric acid           5288 non-null   float64\n",
      " 3   residual sugar        5288 non-null   float64\n",
      " 4   chlorides             5288 non-null   float64\n",
      " 5   free sulfur dioxide   5288 non-null   float64\n",
      " 6   total sulfur dioxide  5288 non-null   float64\n",
      " 7   density               5288 non-null   float64\n",
      " 8   pH                    5288 non-null   float64\n",
      " 9   sulphates             5288 non-null   float64\n",
      " 10  alcohol               5288 non-null   float64\n",
      " 11  quality               5288 non-null   int64  \n",
      " 12  Type                  5288 non-null   object \n",
      "dtypes: float64(11), int64(1), object(1)\n",
      "memory usage: 578.4+ KB\n"
     ]
    }
   ],
   "source": [
    "df.info()"
   ]
  },
  {
   "cell_type": "code",
   "execution_count": 23,
   "id": "47724ef9",
   "metadata": {},
   "outputs": [
    {
     "data": {
      "text/plain": [
       "White Wine    3939\n",
       "Red Wine      1349\n",
       "Name: Type, dtype: int64"
      ]
     },
     "execution_count": 23,
     "metadata": {},
     "output_type": "execute_result"
    }
   ],
   "source": [
    "df['Type'].value_counts()"
   ]
  },
  {
   "cell_type": "markdown",
   "id": "6db85293",
   "metadata": {},
   "source": [
    "Evaluando para limpiar el dataset"
   ]
  },
  {
   "cell_type": "code",
   "execution_count": 11,
   "id": "595854e6",
   "metadata": {},
   "outputs": [
    {
     "data": {
      "text/plain": [
       "fixed acidity           0\n",
       "volatile acidity        0\n",
       "citric acid             0\n",
       "residual sugar          0\n",
       "chlorides               0\n",
       "free sulfur dioxide     0\n",
       "total sulfur dioxide    0\n",
       "density                 0\n",
       "pH                      0\n",
       "sulphates               0\n",
       "alcohol                 0\n",
       "quality                 0\n",
       "Type                    0\n",
       "dtype: int64"
      ]
     },
     "execution_count": 11,
     "metadata": {},
     "output_type": "execute_result"
    }
   ],
   "source": [
    "df.isna().sum()"
   ]
  },
  {
   "cell_type": "code",
   "execution_count": 12,
   "id": "758441e1",
   "metadata": {},
   "outputs": [
    {
     "data": {
      "text/plain": [
       "0"
      ]
     },
     "execution_count": 12,
     "metadata": {},
     "output_type": "execute_result"
    }
   ],
   "source": [
    "df.duplicated().sum()"
   ]
  },
  {
   "cell_type": "markdown",
   "id": "15d9a0a3",
   "metadata": {},
   "source": [
    "# Exploring Dataset (EDA)"
   ]
  },
  {
   "cell_type": "code",
   "execution_count": 13,
   "id": "21ab9299",
   "metadata": {},
   "outputs": [
    {
     "data": {
      "image/png": "[encoded data removed]",
      "text/plain": [
       "<Figure size 640x480 with 1 Axes>"
      ]
     },
     "metadata": {},
     "output_type": "display_data"
    },
    {
     "data": {
      "image/png": "[encoded data removed]",
      "text/plain": [
       "<Figure size 640x480 with 2 Axes>"
      ]
     },
     "metadata": {},
     "output_type": "display_data"
    }
   ],
   "source": [
    "# check for missing values\n",
    "wine_df.isnull().sum()\n",
    "\n",
    "# visualize the target variable\n",
    "wine_df['quality'].value_counts().plot(kind='bar')\n",
    "\n",
    "# visualize the correlation matrix\n",
    "# corr_matrix = wine_df.corr()\n",
    "# sns.heatmap(corr_matrix, annot=True, cmap='coolwarm')\n",
    "\n",
    "# correlations \n",
    "df = pd.read_csv(\"/Users/vicenteciampa/My Drive/Personal/Formacion/CodFacilito/CF-DataScience_Avanzado/Wine_Quality_Data/Fuentes/WineQuality.csv\").drop(['Unnamed: 0'], axis=1).drop_duplicates()\n",
    "corr = df.set_index('volatile acidity').corr()\n",
    "sm.graphics.plot_corr(corr, xnames=list(corr.columns))\n",
    "plt.show()\n"
   ]
  },
  {
   "cell_type": "markdown",
   "id": "8cbd4b0d",
   "metadata": {},
   "source": [
    "# Machine learning"
   ]
  },
  {
   "cell_type": "code",
   "execution_count": 14,
   "id": "66d971e0",
   "metadata": {},
   "outputs": [],
   "source": [
    "# split dataset into training and testing sets\n",
    "X = wine_df.iloc[:, :-2]  # independent variables\n",
    "y_quality = wine_df.iloc[:, -2]  # target variable for quality prediction\n",
    "y_type = wine_df.iloc[:, -1]  # target variable for type prediction\n",
    "X_train, X_test, yq_train, yq_test, yt_train, yt_test = train_test_split(\n",
    "    X, y_quality, y_type, test_size=0.2, random_state=42)\n",
    "\n",
    "# standardize the data\n",
    "sc = StandardScaler()\n",
    "X_train = sc.fit_transform(X_train)\n",
    "X_test = sc.fit_transform(X_test)\n"
   ]
  },
  {
   "cell_type": "markdown",
   "id": "f001cda1",
   "metadata": {},
   "source": [
    "# Modelo"
   ]
  },
  {
   "cell_type": "code",
   "execution_count": 15,
   "id": "b1ff1c1b",
   "metadata": {},
   "outputs": [
    {
     "data": {
      "text/plain": [
       "array([[1659,    0],\n",
       "       [   0, 4838]])"
      ]
     },
     "execution_count": 15,
     "metadata": {},
     "output_type": "execute_result"
    }
   ],
   "source": [
    "# train the model\n",
    "rfc = RandomForestClassifier(n_estimators=500, random_state=42)\n",
    "rfc.fit(X_train, yq_train)\n",
    "\n",
    "# evaluate the model\n",
    "yq_pred = rfc.predict(X_test)\n",
    "accuracy_score(yq_test, yq_pred)\n",
    "confusion_matrix(yq_test, yq_pred)\n",
    "\n",
    "# train the model for type prediction\n",
    "rfc_type = RandomForestClassifier(n_estimators=500, random_state=42)\n",
    "rfc_type.fit(X_train, yt_train)\n",
    "\n",
    "# evaluate the model for type prediction\n",
    "yt_pred = rfc_type.predict(X_test)\n",
    "accuracy_score(yt_test, yt_pred)\n",
    "confusion_matrix(yt_test, yt_pred)\n"
   ]
  },
  {
   "cell_type": "markdown",
   "id": "d562b81f",
   "metadata": {},
   "source": [
    "# Predictions"
   ]
  },
  {
   "cell_type": "markdown",
   "id": "ecedc480",
   "metadata": {},
   "source": [
    "#########"
   ]
  },
  {
   "cell_type": "code",
   "execution_count": 18,
   "id": "c5a4da13",
   "metadata": {},
   "outputs": [
    {
     "name": "stdout",
     "output_type": "stream",
     "text": [
      "Accuracy: 0.9946128982607357\n",
      "Confusion Matrix: [[  29    0    0    0    0    0    0]\n",
      " [   0  211    0    1    0    0    0]\n",
      " [   0    0 2203   20    0    0    0]\n",
      " [   0    0   10 2754    0    0    0]\n",
      " [   0    0    0    4 1084    0    0]\n",
      " [   0    0    0    0    0  178    0]\n",
      " [   0    0    0    0    0    0    3]]\n"
     ]
    }
   ],
   "source": [
    "# train the model for wine quality prediction\n",
    "rfc = RandomForestClassifier(n_estimators=100, random_state=0)\n",
    "rfc.fit(X_train, yq_train)\n",
    "\n",
    "# predict the wine quality for test data\n",
    "yq_pred = rfc.predict(X_test)\n",
    "\n",
    "# evaluate the performance of the model\n",
    "accuracy = accuracy_score(yq_test, yq_pred)\n",
    "cm = confusion_matrix(yq_test, yq_pred)\n",
    "print('Accuracy:', accuracy)\n",
    "print('Confusion Matrix:', cm)\n"
   ]
  },
  {
   "cell_type": "code",
   "execution_count": 19,
   "id": "ba29a1f6",
   "metadata": {},
   "outputs": [
    {
     "name": "stdout",
     "output_type": "stream",
     "text": [
      "Accuracy: 1.0\n",
      "Confusion Matrix: [[1659    0]\n",
      " [   0 4838]]\n"
     ]
    }
   ],
   "source": [
    "# train the model for wine type prediction\n",
    "rfc2 = RandomForestClassifier(n_estimators=100, random_state=0)\n",
    "rfc2.fit(X_train, yt_train)\n",
    "\n",
    "# predict the wine type for test data\n",
    "yt_pred = rfc2.predict(X_test)\n",
    "\n",
    "# evaluate the performance of the model\n",
    "accuracy2 = accuracy_score(yt_test, yt_pred)\n",
    "cm2 = confusion_matrix(yt_test, yt_pred)\n",
    "print('Accuracy:', accuracy2)\n",
    "print('Confusion Matrix:', cm2)\n"
   ]
  },
  {
   "cell_type": "code",
   "execution_count": 20,
   "id": "8fa27ddd",
   "metadata": {},
   "outputs": [
    {
     "name": "stdout",
     "output_type": "stream",
     "text": [
      "Confusion Matrix for Wine Quality Prediction:\n",
      " [[  29    0    0    0    0    0    0]\n",
      " [   0  211    0    1    0    0    0]\n",
      " [   0    0 2203   20    0    0    0]\n",
      " [   0    0   10 2754    0    0    0]\n",
      " [   0    0    0    4 1084    0    0]\n",
      " [   0    0    0    0    0  178    0]\n",
      " [   0    0    0    0    0    0    3]]\n",
      "Accuracy of the Model for Wine Quality Prediction: 0.9946128982607357\n"
     ]
    }
   ],
   "source": [
    "# Split the dataset into training and testing sets\n",
    "X = wine_df.iloc[:, :-2]  # Independent variables\n",
    "y_quality = wine_df.iloc[:, -2]  # Target variable for quality prediction\n",
    "y_type = wine_df.iloc[:, -1]  # Target variable for type prediction\n",
    "X_train, X_test, yq_train, yq_test, yt_train, yt_test = train_test_split(\n",
    "    X, y_quality, y_type, test_size=0.2, random_state=42)\n",
    "\n",
    "# Standardize the data\n",
    "sc = StandardScaler()\n",
    "X_train = sc.fit_transform(X_train)\n",
    "X_test = sc.fit_transform(X_test)\n",
    "\n",
    "# Train the model for wine quality prediction\n",
    "rfc = RandomForestClassifier(n_estimators=100, random_state=0)\n",
    "rfc.fit(X_train, yq_train)\n",
    "\n",
    "# Predict the wine quality for test data\n",
    "yq_pred = rfc.predict(X_test)\n",
    "\n",
    "# Generate confusion matrix for wine quality prediction\n",
    "cm = confusion_matrix(yq_test, yq_pred)\n",
    "print('Confusion Matrix for Wine Quality Prediction:\\n', cm)\n",
    "\n",
    "# Evaluate the performance of the model for wine quality prediction\n",
    "accuracy = accuracy_score(yq_test, yq_pred)\n",
    "print('Accuracy of the Model for Wine Quality Prediction:', accuracy)\n"
   ]
  },
  {
   "cell_type": "markdown",
   "id": "9dd807f9",
   "metadata": {},
   "source": [
    "La matriz de confusión nos ayudará a entender el desglose de los errores en las predicciones para el conjunto de datos invisible. Podemos ver el número de positivos verdaderos (TP), negativos verdaderos (TN), positivos falsos (FP) y negativos falsos (FN).\n",
    "\n",
    "Basado en la matriz de confusión, podemos ajustar los hiperparámetros del modelo para mejorar su precisión. También podemos intentar usar un algoritmo diferente o técnicas de ingeniería de características para mejorar la precisión.\n",
    "\n",
    "Los resultados finales dependerán de los ajustes realizados en el modelo y la métrica de evaluación elegida. Podemos usar la puntuación de precisión, la matriz de confusión u otras métricas de evaluación para medir el rendimiento del modelo final."
   ]
  },
  {
   "cell_type": "markdown",
   "id": "72b52db2",
   "metadata": {},
   "source": [
    "# Graph Accuracy of the Model for Wine Quality Prediction:, accuracy"
   ]
  },
  {
   "cell_type": "code",
   "execution_count": 21,
   "id": "5e7c162c",
   "metadata": {},
   "outputs": [
    {
     "data": {
      "image/png": "[encoded data removed]",
      "text/plain": [
       "<Figure size 640x480 with 1 Axes>"
      ]
     },
     "metadata": {},
     "output_type": "display_data"
    }
   ],
   "source": [
    "import matplotlib.pyplot as plt\n",
    "import numpy as np\n",
    "\n",
    "# Define the accuracy scores for different models\n",
    "accuracy_scores = [0.75, 0.80, 0.85, 0.90]\n",
    "\n",
    "# Define the different model variants\n",
    "models = ['Model A', 'Model B', 'Model C', 'Model D']\n",
    "\n",
    "# Create a bar chart\n",
    "plt.bar(models, accuracy_scores, color='blue')\n",
    "\n",
    "# Add labels and title\n",
    "plt.xlabel('Models')\n",
    "plt.ylabel('Accuracy Scores')\n",
    "plt.title('Accuracy of Wine Quality Prediction Models')\n",
    "\n",
    "# Show the plot\n",
    "plt.show()\n"
   ]
  },
  {
   "cell_type": "markdown",
   "id": "14d23a42",
   "metadata": {},
   "source": [
    "La precisión del modelo para la predicción de la calidad del vino se puede graficar utilizando un gráfico de barras o un gráfico de líneas. Podemos trazar la puntuación de precisión en el eje y y las diferentes variantes de modelo en el eje x."
   ]
  },
  {
   "cell_type": "markdown",
   "id": "8beddc0b",
   "metadata": {},
   "source": [
    "En este ejemplo, estamos trazando las puntuaciones de precisión para cuatro modelos diferentes (Modelo A, Modelo B, Modelo C y Modelo D). Podemos ajustar el código para incluir diferentes variantes de modelo y puntajes de precisión basados en nuestro caso de uso específico."
   ]
  }
 ],
 "metadata": {
  "kernelspec": {
   "display_name": "Python 3 (ipykernel)",
   "language": "python",
   "name": "python3"
  },
  "language_info": {
   "codemirror_mode": {
    "name": "ipython",
    "version": 3
   },
   "file_extension": ".py",
   "mimetype": "text/x-python",
   "name": "python",
   "nbconvert_exporter": "python",
   "pygments_lexer": "ipython3",
   "version": "3.9.16"
  }
 },
 "nbformat": 4,
 "nbformat_minor": 5
}
